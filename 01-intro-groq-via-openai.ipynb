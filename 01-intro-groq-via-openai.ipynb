{
 "cells": [
  {
   "cell_type": "code",
   "execution_count": 8,
   "id": "657c585d-8dc8-4d1d-a975-66a761e4e8ee",
   "metadata": {},
   "outputs": [
    {
     "name": "stdout",
     "output_type": "stream",
     "text": [
      "Cooking tender halibut can be done in several delicious ways. Here are a few methods to ensure you get a tender and flavorful result:\n",
      "\n",
      "### 1. **Pan-Seared Halibut**\n",
      "**Ingredients:**\n",
      "- 4 halibut fillets\n",
      "- 2 tbsp olive oil\n",
      "- Salt and pepper to taste\n",
      "- 1 lemon, sliced\n",
      "- Fresh herbs (optional, such as parsley or dill)\n",
      "\n",
      "**Instructions:**\n",
      "1. **Season the Halibut:** Pat the halibut fillets dry with a paper towel and season both sides with salt and pepper.\n",
      "2. **Heat the Pan:** Heat the olive oil in a large skillet over medium-high heat until it shimmers.\n",
      "3. **Cook the Halibut:** Place the fillets in the skillet and cook for 4-5 minutes on each side, or until golden brown and cooked through. Be careful not to overcook, as halibut can become tough.\n",
      "4. **Finish in the Oven (Optional):** If you want the fish to cook evenly, you can finish it in a preheated 400°F (200°C) oven for an additional 5-7 minutes.\n",
      "5. **Serve:** Remove from the oven or pan, garnish with lemon slices and fresh herbs, and serve immediately.\n",
      "\n",
      "### 2. **Baked Halibut**\n",
      "**Ingredients:**\n",
      "- 4 halibut\n"
     ]
    }
   ],
   "source": [
    "import os\n",
    "from openai import OpenAI\n",
    "\n",
    "# Set your Groq API key\n",
    "client = OpenAI(\n",
    "    base_url=\"https://api.groq.com/openai/v1\",\n",
    "    api_key=os.getenv(\"GROQ_API_KEY\") or \"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\"\n",
    ")\n",
    "\n",
    "response = client.chat.completions.create(\n",
    "    model=\"mistral-saba-24b\",\n",
    "    messages=[\n",
    "        {\"role\": \"system\", \"content\": \"You are a helpful assistant.\"},\n",
    "        {\"role\": \"user\", \"content\": \"How do I cook tender halibut?\"}\n",
    "    ],\n",
    "    temperature=0.7,\n",
    "    max_tokens=300\n",
    ")\n",
    "\n",
    "print(response.choices[0].message.content)\n"
   ]
  },
  {
   "cell_type": "code",
   "execution_count": null,
   "id": "fa90c639-3933-4d53-b657-534d9f84ae1b",
   "metadata": {},
   "outputs": [],
   "source": []
  }
 ],
 "metadata": {
  "kernelspec": {
   "display_name": "Python 3 (ipykernel)",
   "language": "python",
   "name": "python3"
  },
  "language_info": {
   "codemirror_mode": {
    "name": "ipython",
    "version": 3
   },
   "file_extension": ".py",
   "mimetype": "text/x-python",
   "name": "python",
   "nbconvert_exporter": "python",
   "pygments_lexer": "ipython3",
   "version": "3.12.1"
  }
 },
 "nbformat": 4,
 "nbformat_minor": 5
}
